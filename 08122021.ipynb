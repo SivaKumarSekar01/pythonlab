{
  "nbformat": 4,
  "nbformat_minor": 0,
  "metadata": {
    "colab": {
      "name": "08122021.ipynb",
      "provenance": [],
      "include_colab_link": true
    },
    "kernelspec": {
      "name": "python3",
      "display_name": "Python 3"
    },
    "language_info": {
      "name": "python"
    }
  },
  "cells": [
    {
      "cell_type": "markdown",
      "metadata": {
        "id": "view-in-github",
        "colab_type": "text"
      },
      "source": [
        "<a href=\"https://colab.research.google.com/github/SivaKumarSekar01/pythonlab/blob/main/08122021.ipynb\" target=\"_parent\"><img src=\"https://colab.research.google.com/assets/colab-badge.svg\" alt=\"Open In Colab\"/></a>"
      ]
    },
    {
      "cell_type": "markdown",
      "metadata": {
        "id": "-YyQsmNaWwdM"
      },
      "source": [
        "**Change the second item**"
      ]
    },
    {
      "cell_type": "code",
      "metadata": {
        "id": "IvE8m-xZW3Tc",
        "colab": {
          "base_uri": "https://localhost:8080/"
        },
        "outputId": "16c0d725-fbad-4158-aa9a-e7f1f5b57891"
      },
      "source": [
        "thislist = [\"apple\", \"banana\", \"cherry\"]\n",
        "thislist[1] = \"blackcurr54ant\"\n",
        "print(thislist)"
      ],
      "execution_count": 1,
      "outputs": [
        {
          "output_type": "stream",
          "name": "stdout",
          "text": [
            "['apple', 'blackcurr54ant', 'cherry']\n"
          ]
        }
      ]
    },
    {
      "cell_type": "markdown",
      "metadata": {
        "id": "yZvbwFKVW528"
      },
      "source": [
        "**Change the values \"banana\" and \"cherry\" with the values \"blackcurrant\" and \"watermelon\"**"
      ]
    },
    {
      "cell_type": "code",
      "metadata": {
        "id": "C3UB9JGXW9hd",
        "colab": {
          "base_uri": "https://localhost:8080/"
        },
        "outputId": "280bc6ed-fd1e-4e81-a175-a4681eebf8aa"
      },
      "source": [
        "thislist = [\"apple\", \"banana\", \"cherry\", \"orange\", \"kiwi\", \"mango\"]\n",
        "thislist[1:3] = [\"banana\", \"watermelon\"]\n",
        "print(thislist)"
      ],
      "execution_count": 2,
      "outputs": [
        {
          "output_type": "stream",
          "name": "stdout",
          "text": [
            "['apple', 'banana', 'watermelon', 'orange', 'kiwi', 'mango']\n"
          ]
        }
      ]
    },
    {
      "cell_type": "markdown",
      "metadata": {
        "id": "QV99JD6UXA7O"
      },
      "source": [
        "**Change the second value by replacing it with two new values**"
      ]
    },
    {
      "cell_type": "code",
      "metadata": {
        "id": "OqG9T2-AXFqW",
        "colab": {
          "base_uri": "https://localhost:8080/"
        },
        "outputId": "0eedf4cc-5154-45b6-d892-fa29cbe3c479"
      },
      "source": [
        "thislist = [\"apple\", \"banana\", \"cherry\"]\n",
        "thislist[1:2] = [\"blackcurrant\", \"watermelon\"]\n",
        "print(thislist)"
      ],
      "execution_count": 3,
      "outputs": [
        {
          "output_type": "stream",
          "name": "stdout",
          "text": [
            "['apple', 'blackcurrant', 'watermelon', 'cherry']\n"
          ]
        }
      ]
    },
    {
      "cell_type": "markdown",
      "metadata": {
        "id": "RClXUItjXIfW"
      },
      "source": [
        "**Change the second and third value by replacing it with one value**"
      ]
    },
    {
      "cell_type": "code",
      "metadata": {
        "id": "CCZ_FU47XL_g",
        "colab": {
          "base_uri": "https://localhost:8080/"
        },
        "outputId": "eba93d1d-9d81-4755-d9a6-de8328080926"
      },
      "source": [
        "thislist = [\"apple\", \"banana\", \"cherry\"]\n",
        "thislist[1:3] = [\"watermelon\"]\n",
        "print(thislist)"
      ],
      "execution_count": 4,
      "outputs": [
        {
          "output_type": "stream",
          "name": "stdout",
          "text": [
            "['apple', 'watermelon']\n"
          ]
        }
      ]
    },
    {
      "cell_type": "markdown",
      "metadata": {
        "id": "wGZg4KukXS_Q"
      },
      "source": [
        "**Insert \"watermelon\" as the third item**"
      ]
    },
    {
      "cell_type": "code",
      "metadata": {
        "id": "ykOgAW01XV_6",
        "colab": {
          "base_uri": "https://localhost:8080/"
        },
        "outputId": "ec2ac67b-d02a-4c62-d579-166614451706"
      },
      "source": [
        "thislist = [\"apple\", \"banana\", \"cherry\"]\n",
        "thislist.insert(2, \"watermelon\")\n",
        "print(thislist)"
      ],
      "execution_count": 5,
      "outputs": [
        {
          "output_type": "stream",
          "name": "stdout",
          "text": [
            "['apple', 'banana', 'watermelon', 'cherry']\n"
          ]
        }
      ]
    },
    {
      "cell_type": "markdown",
      "metadata": {
        "id": "8Cf94GsmXd9w"
      },
      "source": [
        "**Using the append() method to append an item**"
      ]
    },
    {
      "cell_type": "code",
      "metadata": {
        "id": "FfTNxuaSXe9T",
        "colab": {
          "base_uri": "https://localhost:8080/"
        },
        "outputId": "45025ef9-b572-4e1c-abc8-546d25e69b62"
      },
      "source": [
        "thislist = [\"apple\", \"banana\", \"cherry\"]\n",
        "thislist.append(\"orange\")\n",
        "print(thislist)"
      ],
      "execution_count": 6,
      "outputs": [
        {
          "output_type": "stream",
          "name": "stdout",
          "text": [
            "['apple', 'banana', 'cherry', 'orange']\n"
          ]
        }
      ]
    },
    {
      "cell_type": "markdown",
      "metadata": {
        "id": "0uPZneHNXieS"
      },
      "source": [
        "**Insert an item as the second position**"
      ]
    },
    {
      "cell_type": "code",
      "metadata": {
        "id": "P2DhwDX_Xnja",
        "colab": {
          "base_uri": "https://localhost:8080/"
        },
        "outputId": "6b488ef1-73fa-4338-c3eb-85ddbb171085"
      },
      "source": [
        "thislist = [\"apple\", \"banana\", \"cherry\"]\n",
        "thislist.insert(1, \"orange\")\n",
        "print(thislist)"
      ],
      "execution_count": 7,
      "outputs": [
        {
          "output_type": "stream",
          "name": "stdout",
          "text": [
            "['apple', 'orange', 'banana', 'cherry']\n"
          ]
        }
      ]
    },
    {
      "cell_type": "markdown",
      "metadata": {
        "id": "Lkvo8653XwPr"
      },
      "source": [
        "**Add the elements of tropical to thislist**"
      ]
    },
    {
      "cell_type": "code",
      "metadata": {
        "colab": {
          "base_uri": "https://localhost:8080/"
        },
        "id": "z1cHg_FZXxD8",
        "outputId": "6bec1ee7-2626-48f5-898e-239f5c147d2f"
      },
      "source": [
        "thislist = [\"apple\", \"banana\", \"cherry\"]\n",
        "tropical = [\"mango\", \"pineapple\", \"papaya\"]\n",
        "thislist.extend(tropical)\n",
        "print(thislist)"
      ],
      "execution_count": 8,
      "outputs": [
        {
          "output_type": "stream",
          "name": "stdout",
          "text": [
            "['apple', 'banana', 'cherry', 'mango', 'pineapple', 'papaya']\n"
          ]
        }
      ]
    },
    {
      "cell_type": "markdown",
      "metadata": {
        "id": "JcRhSjrkX0Tk"
      },
      "source": [
        "**Add elements of a tuple to a list**"
      ]
    },
    {
      "cell_type": "code",
      "metadata": {
        "id": "cL3YRLtbX721",
        "colab": {
          "base_uri": "https://localhost:8080/"
        },
        "outputId": "af965e64-c913-405e-e209-a5f160b3450a"
      },
      "source": [
        "thislist = [\"apple\", \"banana\", \"cherry\"]\n",
        "thistuple = (\"kiwi\", \"orange\")\n",
        "thislist.extend(thistuple)\n",
        "print(thislist)"
      ],
      "execution_count": 9,
      "outputs": [
        {
          "output_type": "stream",
          "name": "stdout",
          "text": [
            "['apple', 'banana', 'cherry', 'kiwi', 'orange']\n"
          ]
        }
      ]
    },
    {
      "cell_type": "markdown",
      "metadata": {
        "id": "_YdmMAHHY0MW"
      },
      "source": [
        "**Remove \"banana\"**"
      ]
    },
    {
      "cell_type": "code",
      "metadata": {
        "id": "IMRo3OO8Y0_Y",
        "colab": {
          "base_uri": "https://localhost:8080/"
        },
        "outputId": "55ce90d1-71b9-47ac-b280-1627f8a53c8e"
      },
      "source": [
        "thislist = [\"apple\", \"banana\", \"cherry\"]\n",
        "thislist.remove(\"apple\")\n",
        "print(thislist)"
      ],
      "execution_count": 13,
      "outputs": [
        {
          "output_type": "stream",
          "name": "stdout",
          "text": [
            "['banana', 'cherry']\n"
          ]
        }
      ]
    },
    {
      "cell_type": "markdown",
      "metadata": {
        "id": "RL1yqvcyY7pJ"
      },
      "source": [
        "**Remove the second item**"
      ]
    },
    {
      "cell_type": "code",
      "source": [
        "thislist = [\"apple\", \"banana\", \"cherry\"]\n",
        "thislist.pop(1)\n",
        "print(thislist)"
      ],
      "metadata": {
        "id": "hlEaG6h73TZu",
        "colab": {
          "base_uri": "https://localhost:8080/"
        },
        "outputId": "cca56390-792f-4548-f13a-30c3e013bfa5"
      },
      "execution_count": 14,
      "outputs": [
        {
          "output_type": "stream",
          "name": "stdout",
          "text": [
            "['apple', 'cherry']\n"
          ]
        }
      ]
    },
    {
      "cell_type": "markdown",
      "metadata": {
        "id": "F-vXbvANZAgv"
      },
      "source": [
        "**Remove the last item**"
      ]
    },
    {
      "cell_type": "code",
      "metadata": {
        "id": "pAU4yrjrZFcR",
        "colab": {
          "base_uri": "https://localhost:8080/"
        },
        "outputId": "62312e9e-4d02-48e0-e84e-bfebe428b803"
      },
      "source": [
        "thislist = [\"apple\", \"banana\", \"cherry\"]\n",
        "thislist.pop()\n",
        "print(thislist)"
      ],
      "execution_count": 19,
      "outputs": [
        {
          "output_type": "stream",
          "name": "stdout",
          "text": [
            "['apple', 'banana']\n"
          ]
        }
      ]
    },
    {
      "cell_type": "markdown",
      "metadata": {
        "id": "ttZEAj2zZLTS"
      },
      "source": [
        "**Remove the first item**"
      ]
    },
    {
      "cell_type": "code",
      "metadata": {
        "id": "u06Q5aqIZNHw",
        "colab": {
          "base_uri": "https://localhost:8080/"
        },
        "outputId": "7eda86ed-a65a-401c-9cd3-1c78f8d9e8cb"
      },
      "source": [
        "thislist = [\"apple\", \"banana\", \"cherry\"]\n",
        "del thislist[2]\n",
        "print(thislist)"
      ],
      "execution_count": 26,
      "outputs": [
        {
          "output_type": "stream",
          "name": "stdout",
          "text": [
            "['apple', 'banana']\n"
          ]
        }
      ]
    },
    {
      "cell_type": "markdown",
      "metadata": {
        "id": "OePXvbL-ZQlA"
      },
      "source": [
        "**Delete the entire list**"
      ]
    },
    {
      "cell_type": "code",
      "metadata": {
        "id": "bpkJARhbZT9p"
      },
      "source": [
        "thislist = [\"apple\", \"banana\", \"cherry\"]\n",
        "del thislist"
      ],
      "execution_count": 24,
      "outputs": []
    },
    {
      "cell_type": "markdown",
      "metadata": {
        "id": "yU7tde6lZWn5"
      },
      "source": [
        "**Clear the list content**"
      ]
    },
    {
      "cell_type": "code",
      "metadata": {
        "colab": {
          "base_uri": "https://localhost:8080/"
        },
        "id": "e3SrhCgFZbN7",
        "outputId": "bb06c16c-1a5a-4697-b589-789664c2a985"
      },
      "source": [
        "thislist = [\"apple\", \"banana\", \"cherry\"]\n",
        "thislist.clear()\n",
        "print(thislist)"
      ],
      "execution_count": 25,
      "outputs": [
        {
          "output_type": "stream",
          "name": "stdout",
          "text": [
            "[]\n"
          ]
        }
      ]
    }
  ]
}