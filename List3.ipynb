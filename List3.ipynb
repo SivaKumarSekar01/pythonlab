{
  "nbformat": 4,
  "nbformat_minor": 0,
  "metadata": {
    "colab": {
      "name": "List3.ipynb",
      "provenance": [],
      "include_colab_link": true
    },
    "kernelspec": {
      "name": "python3",
      "display_name": "Python 3"
    },
    "language_info": {
      "name": "python"
    }
  },
  "cells": [
    {
      "cell_type": "markdown",
      "metadata": {
        "id": "view-in-github",
        "colab_type": "text"
      },
      "source": [
        "<a href=\"https://colab.research.google.com/github/SivaKumarSekar01/pythonlab/blob/main/List3.ipynb\" target=\"_parent\"><img src=\"https://colab.research.google.com/assets/colab-badge.svg\" alt=\"Open In Colab\"/></a>"
      ]
    },
    {
      "cell_type": "markdown",
      "metadata": {
        "id": "JLMIEkEeJCGF"
      },
      "source": [
        "**Print all items in the list, one by one**"
      ]
    },
    {
      "cell_type": "code",
      "metadata": {
        "id": "q2lnGzpuJGlF",
        "colab": {
          "base_uri": "https://localhost:8080/"
        },
        "outputId": "76717846-399c-4655-a989-557d45e12491"
      },
      "source": [
        "thislist = [\"apple\", \"banana\", \"cherry\"]\n",
        "for x in thislist:\n",
        "  print(x)"
      ],
      "execution_count": 1,
      "outputs": [
        {
          "output_type": "stream",
          "name": "stdout",
          "text": [
            "apple\n",
            "banana\n",
            "cherry\n"
          ]
        }
      ]
    },
    {
      "cell_type": "markdown",
      "metadata": {
        "id": "24wlQ3JgJJZ9"
      },
      "source": [
        "**Print all items by referring to their index number**"
      ]
    },
    {
      "cell_type": "code",
      "metadata": {
        "id": "NkdvI-iGJNJN",
        "colab": {
          "base_uri": "https://localhost:8080/"
        },
        "outputId": "92de6bda-bf34-4936-fd7f-bd1770a36269"
      },
      "source": [
        "thislist = [\"apple\", \"banana\", \"cherry\"]\n",
        "for i in range(len(thislist)):\n",
        "  print(thislist[i])"
      ],
      "execution_count": 2,
      "outputs": [
        {
          "output_type": "stream",
          "name": "stdout",
          "text": [
            "apple\n",
            "banana\n",
            "cherry\n"
          ]
        }
      ]
    },
    {
      "cell_type": "markdown",
      "metadata": {
        "id": "AXYQIa5nJSjn"
      },
      "source": [
        "**Print all items, using a while loop to go through all the index numbers**"
      ]
    },
    {
      "cell_type": "code",
      "metadata": {
        "id": "AHFpnhlqJYP_",
        "colab": {
          "base_uri": "https://localhost:8080/"
        },
        "outputId": "06198b63-1e6d-4a8a-a5cc-46e3a39d0d23"
      },
      "source": [
        "thislist = [\"apple\", \"banana\", \"cherry\"]\n",
        "i = 0\n",
        "while i < len(thislist):\n",
        "  print(thislist[i])\n",
        "  i = i + 1"
      ],
      "execution_count": 3,
      "outputs": [
        {
          "output_type": "stream",
          "name": "stdout",
          "text": [
            "apple\n",
            "banana\n",
            "cherry\n"
          ]
        }
      ]
    },
    {
      "cell_type": "markdown",
      "metadata": {
        "id": "CbYQiS8sJe9H"
      },
      "source": [
        "**A short hand for loop that will print all items in a list**"
      ]
    },
    {
      "cell_type": "code",
      "metadata": {
        "id": "eQZ5hjl2Jhd4",
        "colab": {
          "base_uri": "https://localhost:8080/"
        },
        "outputId": "ab396fec-de33-43b2-e39d-f4ac0965c5ea"
      },
      "source": [
        "thislist = [\"apple\", \"banana\", \"cherry\"]\n",
        "[print(x) for x in thislist]"
      ],
      "execution_count": 20,
      "outputs": [
        {
          "output_type": "stream",
          "name": "stdout",
          "text": [
            "apple\n",
            "banana\n",
            "cherry\n"
          ]
        },
        {
          "output_type": "execute_result",
          "data": {
            "text/plain": [
              "[None, None, None]"
            ]
          },
          "metadata": {},
          "execution_count": 20
        }
      ]
    },
    {
      "cell_type": "markdown",
      "metadata": {
        "id": "z9_ILGGXJj-Y"
      },
      "source": [
        "**Sort the list alphabetically**"
      ]
    },
    {
      "cell_type": "code",
      "metadata": {
        "id": "NcUG1ciFJuNj",
        "colab": {
          "base_uri": "https://localhost:8080/"
        },
        "outputId": "fb13a2f4-7e5a-43de-effb-a50409e7595f"
      },
      "source": [
        "thislist = [\"orange\", \"mango\", \"kiwi\", \"pineapple\", \"banana\"]\n",
        "thislist.sort()\n",
        "print(thislist)\n"
      ],
      "execution_count": 5,
      "outputs": [
        {
          "output_type": "stream",
          "name": "stdout",
          "text": [
            "['banana', 'kiwi', 'mango', 'orange', 'pineapple']\n"
          ]
        }
      ]
    },
    {
      "cell_type": "markdown",
      "metadata": {
        "id": "6Uy_x9j7Jw6D"
      },
      "source": [
        "**Sort the list numerically**"
      ]
    },
    {
      "cell_type": "code",
      "metadata": {
        "id": "nV6NvXX6J0-E",
        "colab": {
          "base_uri": "https://localhost:8080/"
        },
        "outputId": "4d568374-872e-46df-9474-35e973d9e417"
      },
      "source": [
        "thislist = [100, 50, 65, 82, 23]\n",
        "thislist.sort()\n",
        "print(thislist)"
      ],
      "execution_count": 7,
      "outputs": [
        {
          "output_type": "stream",
          "name": "stdout",
          "text": [
            "[23, 50, 65, 82, 100]\n"
          ]
        }
      ]
    },
    {
      "cell_type": "markdown",
      "metadata": {
        "id": "s64CqSSqJ4Xc"
      },
      "source": [
        "**Sort the list descending**"
      ]
    },
    {
      "cell_type": "code",
      "metadata": {
        "id": "A_sAJANBJ8S9",
        "colab": {
          "base_uri": "https://localhost:8080/"
        },
        "outputId": "3cfc20e5-3583-493c-ec11-7f4c3cc85995"
      },
      "source": [
        "thislist = [\"orange\", \"mango\", \"kiwi\", \"pineapple\", \"banana\"]\n",
        "thislist.sort(reverse = True)\n",
        "print(thislist)"
      ],
      "execution_count": 8,
      "outputs": [
        {
          "output_type": "stream",
          "name": "stdout",
          "text": [
            "['pineapple', 'orange', 'mango', 'kiwi', 'banana']\n"
          ]
        }
      ]
    },
    {
      "cell_type": "markdown",
      "metadata": {
        "id": "43h7mdHOKDNG"
      },
      "source": [
        "**Sort the list descending**"
      ]
    },
    {
      "cell_type": "code",
      "metadata": {
        "id": "iF7zLeZQKF6F",
        "colab": {
          "base_uri": "https://localhost:8080/"
        },
        "outputId": "7a4bcb90-e3d2-4900-e087-644e8d658ba7"
      },
      "source": [
        "thislist = [100, 50, 65, 82, 23]\n",
        "thislist.sort(reverse = True)\n",
        "print(thislist)"
      ],
      "execution_count": 9,
      "outputs": [
        {
          "output_type": "stream",
          "name": "stdout",
          "text": [
            "[100, 82, 65, 50, 23]\n"
          ]
        }
      ]
    },
    {
      "cell_type": "markdown",
      "metadata": {
        "id": "6GsgZ5TLKUQ3"
      },
      "source": [
        "**Sort the list based on how close the number is to 50**"
      ]
    },
    {
      "cell_type": "code",
      "metadata": {
        "id": "csduLN4UKX0D",
        "colab": {
          "base_uri": "https://localhost:8080/"
        },
        "outputId": "23e603bd-41fb-4092-aca9-36a1c3e1878f"
      },
      "source": [
        "def myfunc(n):\n",
        "  return abs(n - 50)\n",
        "\n",
        "thislist = [100, 50, 65, 82, 23]\n",
        "thislist.sort(key = myfunc)\n",
        "print(thislist)"
      ],
      "execution_count": 10,
      "outputs": [
        {
          "output_type": "stream",
          "name": "stdout",
          "text": [
            "[50, 65, 23, 82, 100]\n"
          ]
        }
      ]
    },
    {
      "cell_type": "markdown",
      "metadata": {
        "id": "1isojn_dKlN6"
      },
      "source": [
        "**Case sensitive sorting can give an unexpected result**"
      ]
    },
    {
      "cell_type": "code",
      "metadata": {
        "id": "DX62Up2NKokT",
        "colab": {
          "base_uri": "https://localhost:8080/"
        },
        "outputId": "a36b4d4d-26f6-4a74-ca27-0971d5cbd31e"
      },
      "source": [
        "thislist = [\"banana\", \"Orange\", \"Kiwi\", \"cherry\"]\n",
        "thislist.sort()\n",
        "print(thislist)"
      ],
      "execution_count": 12,
      "outputs": [
        {
          "output_type": "stream",
          "name": "stdout",
          "text": [
            "['Kiwi', 'Orange', 'banana', 'cherry']\n"
          ]
        }
      ]
    },
    {
      "cell_type": "markdown",
      "metadata": {
        "id": "EJjV9KkkKtjy"
      },
      "source": [
        "**Perform a case-insensitive sort of the list**"
      ]
    },
    {
      "cell_type": "code",
      "metadata": {
        "id": "nz42z31WKwsT",
        "colab": {
          "base_uri": "https://localhost:8080/"
        },
        "outputId": "e3eb9ef0-2b02-492d-b9df-d24ab36a1ee7"
      },
      "source": [
        "thislist = [\"banana\", \"Orange\", \"Kiwi\", \"cherry\"]\n",
        "thislist.sort(key = str.lower)\n",
        "print(thislist)"
      ],
      "execution_count": 13,
      "outputs": [
        {
          "output_type": "stream",
          "name": "stdout",
          "text": [
            "['banana', 'cherry', 'Kiwi', 'Orange']\n"
          ]
        }
      ]
    },
    {
      "cell_type": "markdown",
      "metadata": {
        "id": "aQpfTA5BK7MT"
      },
      "source": [
        "**Reverse the order of the list items**"
      ]
    },
    {
      "cell_type": "code",
      "metadata": {
        "id": "N1vtjrrRK-pM",
        "colab": {
          "base_uri": "https://localhost:8080/"
        },
        "outputId": "28ab5ead-5322-4f6f-b76d-b30024b8b7ed"
      },
      "source": [
        "thislist = [\"banana\", \"Orange\", \"Kiwi\", \"cherry\"]\n",
        "thislist.reverse()\n",
        "print(thislist)"
      ],
      "execution_count": 14,
      "outputs": [
        {
          "output_type": "stream",
          "name": "stdout",
          "text": [
            "['cherry', 'Kiwi', 'Orange', 'banana']\n"
          ]
        }
      ]
    },
    {
      "cell_type": "markdown",
      "metadata": {
        "id": "K3UD8xqwLJnO"
      },
      "source": [
        "**Make a copy of a list with the copy() method**"
      ]
    },
    {
      "cell_type": "code",
      "metadata": {
        "id": "4bkBVXgzLN1-",
        "colab": {
          "base_uri": "https://localhost:8080/"
        },
        "outputId": "eb25309a-f0bf-415b-9ad0-943d5cd095b7"
      },
      "source": [
        "thislist = [\"apple\", \"banana\", \"cherry\"]\n",
        "mylist = thislist.copy()\n",
        "print(mylist)"
      ],
      "execution_count": 15,
      "outputs": [
        {
          "output_type": "stream",
          "name": "stdout",
          "text": [
            "['apple', 'banana', 'cherry']\n"
          ]
        }
      ]
    },
    {
      "cell_type": "markdown",
      "metadata": {
        "id": "ka9h6QLcLSvm"
      },
      "source": [
        "**Make a copy of a list with the list() method**"
      ]
    },
    {
      "cell_type": "code",
      "metadata": {
        "id": "GCJL4kJcRNrb",
        "colab": {
          "base_uri": "https://localhost:8080/"
        },
        "outputId": "1cce4b9d-0865-4fe1-bb77-a128ad9cce18"
      },
      "source": [
        "thislist = [\"apple\", \"banana\", \"cherry\"]\n",
        "mylist = list(thislist)\n",
        "print(mylist)"
      ],
      "execution_count": 16,
      "outputs": [
        {
          "output_type": "stream",
          "name": "stdout",
          "text": [
            "['apple', 'banana', 'cherry']\n"
          ]
        }
      ]
    },
    {
      "cell_type": "markdown",
      "metadata": {
        "id": "s0x0BTh9Lc4x"
      },
      "source": [
        "**Join two list**"
      ]
    },
    {
      "cell_type": "code",
      "metadata": {
        "id": "LbGRuuz7Le8b",
        "colab": {
          "base_uri": "https://localhost:8080/"
        },
        "outputId": "1223241f-37c9-4d79-9e14-a9950d2a20c7"
      },
      "source": [
        "list1 = [\"a\", \"b\", \"c\"]\n",
        "list2 = [1, 2, 3]\n",
        "\n",
        "list3 = list2 + list1\n",
        "print(list3)"
      ],
      "execution_count": 17,
      "outputs": [
        {
          "output_type": "stream",
          "name": "stdout",
          "text": [
            "[1, 2, 3, 'a', 'b', 'c']\n"
          ]
        }
      ]
    },
    {
      "cell_type": "markdown",
      "metadata": {
        "id": "jIe_BtpjLkXB"
      },
      "source": [
        "**Append list2 into list1**"
      ]
    },
    {
      "cell_type": "code",
      "metadata": {
        "id": "StFQymm-Lmfr",
        "colab": {
          "base_uri": "https://localhost:8080/"
        },
        "outputId": "04cfc39a-813e-4cac-9977-de80e383c825"
      },
      "source": [
        "list1 = [\"a\", \"b\" , \"c\"]\n",
        "list2 = [1, 2, 3]\n",
        "\n",
        "for x in list2:\n",
        "  list1.append(x)\n",
        "\n",
        "print(list1)"
      ],
      "execution_count": 18,
      "outputs": [
        {
          "output_type": "stream",
          "name": "stdout",
          "text": [
            "['a', 'b', 'c', 1, 2, 3]\n"
          ]
        }
      ]
    },
    {
      "cell_type": "markdown",
      "metadata": {
        "id": "7lgR4QkYLs8T"
      },
      "source": [
        "**Use the extend() method to add list2 at the end of list1**"
      ]
    },
    {
      "cell_type": "code",
      "metadata": {
        "id": "Ugac1XuQLxqr",
        "colab": {
          "base_uri": "https://localhost:8080/"
        },
        "outputId": "4790367e-856e-4a84-edd6-6619c30a96ab"
      },
      "source": [
        "list1 = [\"a\", \"b\" , \"c\"]\n",
        "list2 = [1, 2, 3]\n",
        "\n",
        "list2.extend(list1)\n",
        "print(list2)"
      ],
      "execution_count": 19,
      "outputs": [
        {
          "output_type": "stream",
          "name": "stdout",
          "text": [
            "[1, 2, 3, 'a', 'b', 'c']\n"
          ]
        }
      ]
    }
  ]
}