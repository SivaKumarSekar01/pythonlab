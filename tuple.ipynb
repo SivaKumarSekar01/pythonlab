{
  "nbformat": 4,
  "nbformat_minor": 0,
  "metadata": {
    "colab": {
      "name": "tuple.ipynb",
      "provenance": [],
      "include_colab_link": true
    },
    "kernelspec": {
      "name": "python3",
      "display_name": "Python 3"
    },
    "language_info": {
      "name": "python"
    }
  },
  "cells": [
    {
      "cell_type": "markdown",
      "metadata": {
        "id": "view-in-github",
        "colab_type": "text"
      },
      "source": [
        "<a href=\"https://colab.research.google.com/github/SivaKumarSekar01/pythonlab/blob/main/tuple.ipynb\" target=\"_parent\"><img src=\"https://colab.research.google.com/assets/colab-badge.svg\" alt=\"Open In Colab\"/></a>"
      ]
    },
    {
      "cell_type": "markdown",
      "metadata": {
        "id": "_lfNrq46MFdQ"
      },
      "source": [
        "**Create a Tuple**"
      ]
    },
    {
      "cell_type": "code",
      "metadata": {
        "id": "VqYcb6M0MGiU",
        "colab": {
          "base_uri": "https://localhost:8080/"
        },
        "outputId": "5aeb9882-682f-4a2f-df48-5e90ba1d88bc"
      },
      "source": [
        "thistuple = (\"apple\", \"banana\", \"cherry\")\n",
        "print(thistuple)"
      ],
      "execution_count": 3,
      "outputs": [
        {
          "output_type": "stream",
          "name": "stdout",
          "text": [
            "('apple', 'banana', 'cherry')\n"
          ]
        }
      ]
    },
    {
      "cell_type": "markdown",
      "metadata": {
        "id": "kocNwrw1MJKO"
      },
      "source": [
        "**Tuples allow duplicate values**"
      ]
    },
    {
      "cell_type": "code",
      "metadata": {
        "id": "J39Gak-YMOEG",
        "colab": {
          "base_uri": "https://localhost:8080/"
        },
        "outputId": "f45b98ce-b44b-47d4-d027-a2ce1ff5744a"
      },
      "source": [
        "thistuple = (\"apple\", \"banana\", \"cherry\", \"apple\", \"cherry\")\n",
        "print(thistuple)"
      ],
      "execution_count": 2,
      "outputs": [
        {
          "output_type": "stream",
          "name": "stdout",
          "text": [
            "('apple', 'banana', 'cherry', 'apple', 'cherry')\n"
          ]
        }
      ]
    },
    {
      "cell_type": "markdown",
      "metadata": {
        "id": "J7HbG02xMUp5"
      },
      "source": [
        "**Print the number of items in the tuple**"
      ]
    },
    {
      "cell_type": "code",
      "metadata": {
        "id": "Ax3PpEovMXQS",
        "colab": {
          "base_uri": "https://localhost:8080/"
        },
        "outputId": "856e49d9-8aeb-4a8b-d1af-7330875cce0a"
      },
      "source": [
        "thistuple = (\"apple\", \"banana\", \"cherry\")\n",
        "print(len(thistuple))"
      ],
      "execution_count": 4,
      "outputs": [
        {
          "output_type": "stream",
          "name": "stdout",
          "text": [
            "3\n"
          ]
        }
      ]
    },
    {
      "cell_type": "markdown",
      "metadata": {
        "id": "1-vVI7axMkki"
      },
      "source": [
        "**Tuple items can be of any data type**"
      ]
    },
    {
      "cell_type": "code",
      "metadata": {
        "id": "gVw5r6_SMl_7"
      },
      "source": [
        "tuple1 = (\"apple\", \"banana\", \"cherry\")\n",
        "tuple2 = (1, 5, 7, 9, 3)\n",
        "tuple3 = (True, False, False)\n",
        "tuple4 = (\"abc\", 34, True, 40, \"male\")"
      ],
      "execution_count": 5,
      "outputs": []
    },
    {
      "cell_type": "markdown",
      "metadata": {
        "id": "tDsLjAd7MzG9"
      },
      "source": [
        "**What is the data type of a tuple?**"
      ]
    },
    {
      "cell_type": "code",
      "metadata": {
        "id": "v2FhvMvOM06s",
        "colab": {
          "base_uri": "https://localhost:8080/"
        },
        "outputId": "ceb4caca-da43-4e04-f2da-cc31854eb2fc"
      },
      "source": [
        "mytuple = (\"apple\", \"banana\", \"cherry\")\n",
        "print(type(mytuple))"
      ],
      "execution_count": 6,
      "outputs": [
        {
          "output_type": "stream",
          "name": "stdout",
          "text": [
            "<class 'tuple'>\n"
          ]
        }
      ]
    },
    {
      "cell_type": "markdown",
      "metadata": {
        "id": "NIXB6nXBM4f1"
      },
      "source": [
        "**Using the tuple() method to make a tuple**"
      ]
    },
    {
      "cell_type": "code",
      "metadata": {
        "id": "aO8DXqC5NBzq",
        "colab": {
          "base_uri": "https://localhost:8080/"
        },
        "outputId": "de727019-e296-4700-ffa8-916517763aad"
      },
      "source": [
        "thistuple = tuple((\"apple\", \"banana\", \"cherry\")) # note the double round-brackets\n",
        "print(thistuple)"
      ],
      "execution_count": 7,
      "outputs": [
        {
          "output_type": "stream",
          "name": "stdout",
          "text": [
            "('apple', 'banana', 'cherry')\n"
          ]
        }
      ]
    },
    {
      "cell_type": "markdown",
      "metadata": {
        "id": "qJFjX2SpNC6t"
      },
      "source": [
        "**Print the second item in the tuple**"
      ]
    },
    {
      "cell_type": "code",
      "metadata": {
        "id": "MgFJCuX8NPE3"
      },
      "source": [
        "thistuple = (\"apple\", \"banana\", \"cherry\")\n",
        "print(thistuple[1])"
      ],
      "execution_count": null,
      "outputs": []
    },
    {
      "cell_type": "markdown",
      "metadata": {
        "id": "X_TjySPoNS6J"
      },
      "source": [
        "**Print the last item of the tuple**"
      ]
    },
    {
      "cell_type": "code",
      "metadata": {
        "id": "r4a8FlqBNZCA"
      },
      "source": [
        "thistuple = (\"apple\", \"banana\", \"cherry\")\n",
        "print(thistuple[-1])"
      ],
      "execution_count": null,
      "outputs": []
    },
    {
      "cell_type": "markdown",
      "metadata": {
        "id": "ooehx2TENenh"
      },
      "source": [
        "**Return the third, fourth, and fifth item**"
      ]
    },
    {
      "cell_type": "code",
      "metadata": {
        "id": "m1gWgTIGNgra"
      },
      "source": [
        "thistuple = (\"apple\", \"banana\", \"cherry\", \"orange\", \"kiwi\", \"melon\", \"mango\")\n",
        "print(thistuple[2:5])"
      ],
      "execution_count": null,
      "outputs": []
    },
    {
      "cell_type": "markdown",
      "metadata": {
        "id": "6ceotsOuNq_j"
      },
      "source": [
        "**returns the items from the beginning to, but NOT included, \"kiwi\"**"
      ]
    },
    {
      "cell_type": "code",
      "metadata": {
        "id": "QE45raVSNvUl"
      },
      "source": [
        "thistuple = (\"apple\", \"banana\", \"cherry\", \"orange\", \"kiwi\", \"melon\", \"mango\")\n",
        "print(thistuple[:4])"
      ],
      "execution_count": null,
      "outputs": []
    },
    {
      "cell_type": "markdown",
      "metadata": {
        "id": "E9KYB8UPN2Zo"
      },
      "source": [
        " **example returns the items from \"cherry\" and to the end**"
      ]
    },
    {
      "cell_type": "code",
      "metadata": {
        "id": "FfjtjVIkN6xA",
        "colab": {
          "base_uri": "https://localhost:8080/"
        },
        "outputId": "1bc2fc6c-aa5e-4495-e3c7-f691445e6f18"
      },
      "source": [
        "thistuple = (\"apple\", \"banana\", \"cherry\", \"orange\", \"kiwi\", \"melon\", \"mango\")\n",
        "print(thistuple[2:])"
      ],
      "execution_count": 8,
      "outputs": [
        {
          "output_type": "stream",
          "name": "stdout",
          "text": [
            "('cherry', 'orange', 'kiwi', 'melon', 'mango')\n"
          ]
        }
      ]
    },
    {
      "cell_type": "markdown",
      "metadata": {
        "id": "H-1v2_0mOBYh"
      },
      "source": [
        "**returns the items from index -4 (included) to index -1 (excluded)**"
      ]
    },
    {
      "cell_type": "code",
      "metadata": {
        "id": "xPgU2VtpOFQ_",
        "colab": {
          "base_uri": "https://localhost:8080/"
        },
        "outputId": "b2b62e4d-8936-48aa-bab6-d9fe1f93f661"
      },
      "source": [
        "thistuple = (\"apple\", \"banana\", \"cherry\", \"orange\", \"kiwi\", \"melon\", \"mango\")\n",
        "print(thistuple[-4:-1])"
      ],
      "execution_count": 9,
      "outputs": [
        {
          "output_type": "stream",
          "name": "stdout",
          "text": [
            "('orange', 'kiwi', 'melon')\n"
          ]
        }
      ]
    },
    {
      "cell_type": "markdown",
      "metadata": {
        "id": "sWs3OZKgOLRv"
      },
      "source": [
        "**Check if \"apple\" is present in the tuple**"
      ]
    },
    {
      "cell_type": "code",
      "metadata": {
        "id": "0yAnR_mFONKR",
        "colab": {
          "base_uri": "https://localhost:8080/"
        },
        "outputId": "51ca6061-e7b4-4180-9256-656f791b74a6"
      },
      "source": [
        "thistuple = (\"apple\", \"banana\", \"cherry\")\n",
        "if \"banana\" in thistuple:\n",
        "  print(\"Yes, 'apple' is in the fruits tuple\")"
      ],
      "execution_count": 13,
      "outputs": [
        {
          "output_type": "stream",
          "name": "stdout",
          "text": [
            "Yes, 'apple' is in the fruits tuple\n"
          ]
        }
      ]
    },
    {
      "cell_type": "markdown",
      "metadata": {
        "id": "ZaS3UmryOlk9"
      },
      "source": [
        "**Convert the tuple into a list to be able to change it**"
      ]
    },
    {
      "cell_type": "code",
      "metadata": {
        "id": "hxwbfzZdOpSP",
        "colab": {
          "base_uri": "https://localhost:8080/"
        },
        "outputId": "3cd63170-8074-43cd-f931-9420fcd2712b"
      },
      "source": [
        "x = (\"apple\", \"banana\", \"cherry\")\n",
        "y = list(x)\n",
        "y[1] = \"kiwi\"\n",
        "x = tuple(y)\n",
        "\n",
        "print(x)"
      ],
      "execution_count": 14,
      "outputs": [
        {
          "output_type": "stream",
          "name": "stdout",
          "text": [
            "('apple', 'kiwi', 'cherry')\n"
          ]
        }
      ]
    },
    {
      "cell_type": "markdown",
      "metadata": {
        "id": "Tlji0Ai5O1yQ"
      },
      "source": [
        "**Convert the tuple into a list, add \"orange\", and convert it back into a tuple**"
      ]
    },
    {
      "cell_type": "code",
      "metadata": {
        "id": "qqus4oC_O7ze"
      },
      "source": [
        "thistuple = (\"apple\", \"banana\", \"cherry\")\n",
        "y = list(thistuple)\n",
        "y.append(\"orange\")\n",
        "thistuple = tuple(y)\n",
        "print(thistuple)"
      ],
      "execution_count": null,
      "outputs": []
    },
    {
      "cell_type": "markdown",
      "metadata": {
        "id": "WtwZEyGBPBa3"
      },
      "source": [
        "**Create a new tuple with the value \"orange\", and add that tuple**"
      ]
    },
    {
      "cell_type": "code",
      "metadata": {
        "id": "UPh1dvj2PDbZ",
        "colab": {
          "base_uri": "https://localhost:8080/"
        },
        "outputId": "7071ec3d-e028-4134-df36-59469f42c7df"
      },
      "source": [
        "thistuple = (\"apple\", \"banana\", \"cherry\")\n",
        "y = (\"orange\",)\n",
        "thistuple += y\n",
        "\n",
        "print(thistuple)"
      ],
      "execution_count": 15,
      "outputs": [
        {
          "output_type": "stream",
          "name": "stdout",
          "text": [
            "('apple', 'banana', 'cherry', 'orange')\n"
          ]
        }
      ]
    },
    {
      "cell_type": "markdown",
      "metadata": {
        "id": "M3tmECJKPP_6"
      },
      "source": [
        "**Convert the tuple into a list, remove \"apple\", and convert it back into a tuple**"
      ]
    },
    {
      "cell_type": "code",
      "metadata": {
        "id": "jcK7rsgJPSK8"
      },
      "source": [
        "thistuple = (\"apple\", \"banana\", \"cherry\")\n",
        "y = list(thistuple)\n",
        "y.remove(\"apple\")\n",
        "thistuple = tuple(y)\n",
        "print(thistuple)"
      ],
      "execution_count": null,
      "outputs": []
    },
    {
      "cell_type": "markdown",
      "metadata": {
        "id": "iWkCsTECPX3D"
      },
      "source": [
        "**The del keyword can delete the tuple completely**"
      ]
    },
    {
      "cell_type": "code",
      "metadata": {
        "id": "w8tTz-E7PfvU"
      },
      "source": [
        "thistuple = (\"apple\", \"banana\", \"cherry\")\n",
        "del thistuple\n",
        "print(thistuple)"
      ],
      "execution_count": null,
      "outputs": []
    },
    {
      "cell_type": "markdown",
      "metadata": {
        "id": "R1J90LKQPtau"
      },
      "source": [
        "**Unpacking a tuple**"
      ]
    },
    {
      "cell_type": "code",
      "metadata": {
        "id": "fi7s5nWSPvwV",
        "colab": {
          "base_uri": "https://localhost:8080/"
        },
        "outputId": "9b3a5069-9cb1-462a-e2a5-64051156330f"
      },
      "source": [
        "fruits = (\"apple\", \"banana\", \"cherry\")\n",
        "\n",
        "(green, yellow, red) = fruits\n",
        "\n",
        "print(green)\n",
        "print(yellow)\n",
        "print(red)"
      ],
      "execution_count": 16,
      "outputs": [
        {
          "output_type": "stream",
          "name": "stdout",
          "text": [
            "apple\n",
            "banana\n",
            "cherry\n"
          ]
        }
      ]
    },
    {
      "cell_type": "markdown",
      "metadata": {
        "id": "zHwbtTpzQFE4"
      },
      "source": [
        "**Assign the rest of the values as a list called \"red\"**"
      ]
    },
    {
      "cell_type": "code",
      "metadata": {
        "id": "ROn_Q6IiQIuZ"
      },
      "source": [
        "fruits = (\"apple\", \"banana\", \"cherry\", \"strawberry\", \"raspberry\")\n",
        "\n",
        "(green, yellow, *red) = fruits\n",
        "\n",
        "print(green)\n",
        "print(yellow)\n",
        "print(red)\n"
      ],
      "execution_count": null,
      "outputs": []
    },
    {
      "cell_type": "markdown",
      "metadata": {
        "id": "Vp1AI_UzQP26"
      },
      "source": [
        "**Add a list of values the \"tropic\" variable**"
      ]
    },
    {
      "cell_type": "code",
      "metadata": {
        "id": "dKHqBvXPQRn0",
        "colab": {
          "base_uri": "https://localhost:8080/"
        },
        "outputId": "46f19bf4-acbb-4b71-81bc-bf839e6e0c2b"
      },
      "source": [
        "fruits = (\"apple\", \"mango\", \"papaya\", \"pineapple\", \"cherry\")\n",
        "\n",
        "(green, *tropic, red) = fruits\n",
        "\n",
        "print(green)\n",
        "print(tropic)\n",
        "print(red)"
      ],
      "execution_count": 17,
      "outputs": [
        {
          "output_type": "stream",
          "name": "stdout",
          "text": [
            "apple\n",
            "['mango', 'papaya', 'pineapple']\n",
            "cherry\n"
          ]
        }
      ]
    },
    {
      "cell_type": "markdown",
      "metadata": {
        "id": "eAaNP5xwQZCV"
      },
      "source": [
        "**Iterate through the items and print the values**"
      ]
    },
    {
      "cell_type": "code",
      "metadata": {
        "id": "r_jJ37xYQdLM",
        "colab": {
          "base_uri": "https://localhost:8080/"
        },
        "outputId": "bf4bb7fa-5897-4aab-817c-b82b6c6fd64a"
      },
      "source": [
        "thistuple = (\"apple\", \"banana\", \"cherry\")\n",
        "for x in thistuple:\n",
        "  print(x)"
      ],
      "execution_count": 23,
      "outputs": [
        {
          "output_type": "stream",
          "name": "stdout",
          "text": [
            "apple\n",
            "banana\n",
            "cherry\n"
          ]
        }
      ]
    },
    {
      "cell_type": "markdown",
      "metadata": {
        "id": "q5fB1fDoQhWi"
      },
      "source": [
        "**Print all items by referring to their index number**"
      ]
    },
    {
      "cell_type": "code",
      "metadata": {
        "id": "kB_9Sa7-Qjv-",
        "colab": {
          "base_uri": "https://localhost:8080/"
        },
        "outputId": "da20a2d0-7f14-4f6d-ad28-8f4be1e915c0"
      },
      "source": [
        "thistuple = (\"apple\", \"banana\", \"cherry\")\n",
        "for i in range(len(thistuple)):\n",
        "  print(thistuple[i])"
      ],
      "execution_count": 22,
      "outputs": [
        {
          "output_type": "stream",
          "name": "stdout",
          "text": [
            "apple\n",
            "banana\n",
            "cherry\n"
          ]
        }
      ]
    },
    {
      "cell_type": "markdown",
      "metadata": {
        "id": "TXtyriYTQnLF"
      },
      "source": [
        "**Print all items, using a while loop to go through all the index numbers**"
      ]
    },
    {
      "cell_type": "code",
      "metadata": {
        "id": "WLrcNWv1QrjH",
        "colab": {
          "base_uri": "https://localhost:8080/"
        },
        "outputId": "95cd6c6e-166b-45fd-ac75-bd7d678806f8"
      },
      "source": [
        "thistuple = (\"apple\", \"banana\", \"cherry\")\n",
        "i = 0\n",
        "while i < len(thistuple):\n",
        "  print(thistuple[i])\n",
        "  i = i + 1"
      ],
      "execution_count": 21,
      "outputs": [
        {
          "output_type": "stream",
          "name": "stdout",
          "text": [
            "apple\n",
            "banana\n",
            "cherry\n"
          ]
        }
      ]
    },
    {
      "cell_type": "markdown",
      "metadata": {
        "id": "JLu7KNpWQyRf"
      },
      "source": [
        "**Join two tuples**"
      ]
    },
    {
      "cell_type": "code",
      "metadata": {
        "id": "07IkhntPQ2JX",
        "colab": {
          "base_uri": "https://localhost:8080/"
        },
        "outputId": "3b7a4868-7170-4377-b41d-5221b8499709"
      },
      "source": [
        "tuple1 = (\"a\", \"b\" , \"c\")\n",
        "tuple2 = (1, 2, 3)\n",
        "\n",
        "tuple3 = tuple1 + tuple2\n",
        "print(tuple3)"
      ],
      "execution_count": 20,
      "outputs": [
        {
          "output_type": "stream",
          "name": "stdout",
          "text": [
            "('a', 'b', 'c', 1, 2, 3)\n"
          ]
        }
      ]
    },
    {
      "cell_type": "markdown",
      "metadata": {
        "id": "HhAu5nAiQ7zI"
      },
      "source": [
        "**Multiply the fruits tuple by 2**"
      ]
    },
    {
      "cell_type": "code",
      "metadata": {
        "id": "lduHb_iVRAfg",
        "colab": {
          "base_uri": "https://localhost:8080/"
        },
        "outputId": "db204a1e-3488-4c2f-c26b-c5de443062c8"
      },
      "source": [
        "fruits = (\"apple\", \"banana\", \"cherry\")\n",
        "mytuple = fruits * 2\n",
        "\n",
        "print(mytuple)"
      ],
      "execution_count": 19,
      "outputs": [
        {
          "output_type": "stream",
          "name": "stdout",
          "text": [
            "('apple', 'banana', 'cherry', 'apple', 'banana', 'cherry')\n"
          ]
        }
      ]
    }
  ]
}