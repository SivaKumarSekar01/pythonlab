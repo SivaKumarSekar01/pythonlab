{
  "nbformat": 4,
  "nbformat_minor": 0,
  "metadata": {
    "colab": {
      "name": "07122021.ipynb",
      "provenance": [],
      "collapsed_sections": [],
      "authorship_tag": "ABX9TyND5Mn1aFgRk30SXkIihX9h",
      "include_colab_link": true
    },
    "kernelspec": {
      "name": "python3",
      "display_name": "Python 3"
    },
    "language_info": {
      "name": "python"
    }
  },
  "cells": [
    {
      "cell_type": "markdown",
      "metadata": {
        "id": "view-in-github",
        "colab_type": "text"
      },
      "source": [
        "<a href=\"https://colab.research.google.com/github/SivaKumarSekar01/pythonlab/blob/main/07122021.ipynb\" target=\"_parent\"><img src=\"https://colab.research.google.com/assets/colab-badge.svg\" alt=\"Open In Colab\"/></a>"
      ]
    },
    {
      "cell_type": "code",
      "metadata": {
        "colab": {
          "base_uri": "https://localhost:8080/"
        },
        "id": "9kAc2W9L1K94",
        "outputId": "492c556c-8efb-4faa-a2a2-a24ca1ba7055"
      },
      "source": [
        "c2=complex(2,5)\n",
        "print(c2)"
      ],
      "execution_count": 1,
      "outputs": [
        {
          "output_type": "stream",
          "name": "stdout",
          "text": [
            "(2+5j)\n"
          ]
        }
      ]
    },
    {
      "cell_type": "code",
      "metadata": {
        "colab": {
          "base_uri": "https://localhost:8080/"
        },
        "id": "nYtA6tVE3Jar",
        "outputId": "de2c05c9-0b37-49f2-ac94-3ac561cdbbac"
      },
      "source": [
        "c1=3+4j\n",
        "print(c1)"
      ],
      "execution_count": 3,
      "outputs": [
        {
          "output_type": "stream",
          "name": "stdout",
          "text": [
            "(3+4j)\n"
          ]
        }
      ]
    },
    {
      "cell_type": "code",
      "metadata": {
        "colab": {
          "base_uri": "https://localhost:8080/"
        },
        "id": "7zn6PQOB3V-g",
        "outputId": "15fd1809-4cfa-4957-8887-5d8344a981ba"
      },
      "source": [
        "print(12345678912456789+1)\n"
      ],
      "execution_count": 5,
      "outputs": [
        {
          "output_type": "stream",
          "name": "stdout",
          "text": [
            "12345678912456790\n"
          ]
        }
      ]
    },
    {
      "cell_type": "code",
      "metadata": {
        "colab": {
          "base_uri": "https://localhost:8080/"
        },
        "id": "QdKQ5dW04BvS",
        "outputId": "b005e2f0-2cd3-4ef3-b135-38b9e7c69362"
      },
      "source": [
        "f1=2.123456789011121\n",
        "print(f1)"
      ],
      "execution_count": 6,
      "outputs": [
        {
          "output_type": "stream",
          "name": "stdout",
          "text": [
            "2.123456789011121\n"
          ]
        }
      ]
    },
    {
      "cell_type": "code",
      "metadata": {
        "colab": {
          "base_uri": "https://localhost:8080/"
        },
        "id": "0LNBJeli4X05",
        "outputId": "f1722089-a5dd-450e-ba73-25440334c59c"
      },
      "source": [
        "a=[]\n",
        "print(a)"
      ],
      "execution_count": 7,
      "outputs": [
        {
          "output_type": "stream",
          "name": "stdout",
          "text": [
            "[]\n"
          ]
        }
      ]
    },
    {
      "cell_type": "code",
      "metadata": {
        "colab": {
          "base_uri": "https://localhost:8080/"
        },
        "id": "bjjCF30k4nKX",
        "outputId": "4628b3bf-81f9-4841-9818-88a77b182b7c"
      },
      "source": [
        "a=[5,5.9,\"list\"]\n",
        "print(a)"
      ],
      "execution_count": 8,
      "outputs": [
        {
          "output_type": "stream",
          "name": "stdout",
          "text": [
            "[5, 5.9, 'list']\n"
          ]
        }
      ]
    },
    {
      "cell_type": "code",
      "metadata": {
        "colab": {
          "base_uri": "https://localhost:8080/"
        },
        "id": "z35Tawaq5JZF",
        "outputId": "3d64bfb0-3ea9-4259-e801-00429c7a3ea7"
      },
      "source": [
        "t=()\n",
        "print(t)"
      ],
      "execution_count": 9,
      "outputs": [
        {
          "output_type": "stream",
          "name": "stdout",
          "text": [
            "()\n"
          ]
        }
      ]
    },
    {
      "cell_type": "code",
      "metadata": {
        "colab": {
          "base_uri": "https://localhost:8080/"
        },
        "id": "8SczBs4P5STd",
        "outputId": "4bdad5bd-daf0-4de0-aa64-0c1df73d8c2b"
      },
      "source": [
        "t=(6,\"tuple\",5.5)\n",
        "print(t)"
      ],
      "execution_count": 10,
      "outputs": [
        {
          "output_type": "stream",
          "name": "stdout",
          "text": [
            "(6, 'tuple', 5.5)\n"
          ]
        }
      ]
    },
    {
      "cell_type": "code",
      "metadata": {
        "colab": {
          "base_uri": "https://localhost:8080/"
        },
        "id": "r_Nk1qla5dyC",
        "outputId": "9ba81816-254e-42c9-d68a-2a33acf345fa"
      },
      "source": [
        "s=\"india\"\n",
        "print(s)"
      ],
      "execution_count": 11,
      "outputs": [
        {
          "output_type": "stream",
          "name": "stdout",
          "text": [
            "india\n"
          ]
        }
      ]
    },
    {
      "cell_type": "code",
      "metadata": {
        "colab": {
          "base_uri": "https://localhost:8080/"
        },
        "id": "dGnyVq_66DGn",
        "outputId": "13c0ecc5-0b0c-4be6-ca69-3e87fc4be82f"
      },
      "source": [
        "sed={7,3,5,3,6,8,4}\n",
        "print(sed)"
      ],
      "execution_count": 12,
      "outputs": [
        {
          "output_type": "stream",
          "name": "stdout",
          "text": [
            "{3, 4, 5, 6, 7, 8}\n"
          ]
        }
      ]
    },
    {
      "cell_type": "code",
      "metadata": {
        "colab": {
          "base_uri": "https://localhost:8080/"
        },
        "id": "Ij60ncJG6jJU",
        "outputId": "44df405a-bacc-474d-83a6-a14265a2306c"
      },
      "source": [
        "d={3:'india',4:'pakistan'}\n",
        "print(d)"
      ],
      "execution_count": 13,
      "outputs": [
        {
          "output_type": "stream",
          "name": "stdout",
          "text": [
            "{3: 'india', 4: 'pakistan'}\n"
          ]
        }
      ]
    },
    {
      "cell_type": "code",
      "metadata": {
        "id": "nf05qIyZ7gfJ"
      },
      "source": [
        ""
      ],
      "execution_count": null,
      "outputs": []
    }
  ]
}